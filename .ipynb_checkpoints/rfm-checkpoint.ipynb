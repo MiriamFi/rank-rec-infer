{
 "cells": [
  {
   "cell_type": "code",
   "execution_count": 1,
   "id": "dfcfd628-6426-499a-bd85-715316e4da8f",
   "metadata": {},
   "outputs": [],
   "source": [
    "#Import Required Packages and Set Options\n",
    "import os\n",
    "import sys\n",
    "import git\n",
    "\n",
    "import numpy as np\n",
    "import numba as nb\n",
    "import pandas as pd\n",
    "\n",
    "import matplotlib.pyplot as plt\n",
    "import seaborn as sns\n",
    "\n",
    "import warnings\n",
    "# warnings.filterwarnings(\"ignore\", category=nb.NumbaPerformanceWarning)\n",
    "\n",
    "from rankfm.rankfm import RankFM\n",
    "from rankfm.evaluation import hit_rate, reciprocal_rank, discounted_cumulative_gain, precision, recall, diversity"
   ]
  },
  {
   "cell_type": "code",
   "execution_count": 2,
   "id": "b814acea-7076-46d7-aea3-3f0bef5488cc",
   "metadata": {},
   "outputs": [],
   "source": [
    "sns.set_style('whitegrid')\n",
    "plt.rcParams['axes.titlesize'] = 14\n",
    "plt.rcParams['axes.labelsize'] = 12\n",
    "plt.rcParams['xtick.labelsize'] = 12\n",
    "plt.rcParams['ytick.labelsize'] = 12\n",
    "# plt.rcParams"
   ]
  },
  {
   "cell_type": "code",
   "execution_count": 1,
   "id": "e200f272-0501-4f0f-a1db-ac7dab288a29",
   "metadata": {},
   "outputs": [],
   "source": [
    "#Set File Path Constants\n",
    "repo_root = \"/Users/mfinj/Documents/Master projects/RankRecm\"\n",
    "data_path = os.path.join(repo_root, \"data/examples\")\n",
    "print(\"\\n\".join([repo_root, data_path]))"
   ]
  },
  {
   "cell_type": "code",
   "execution_count": null,
   "id": "8e1fbe35-c24a-46b5-8867-3c8c1e265000",
   "metadata": {},
   "outputs": [],
   "source": []
  },
  {
   "cell_type": "code",
   "execution_count": null,
   "id": "9bc77161-6d94-4afb-8b0c-20a61326a2e4",
   "metadata": {},
   "outputs": [],
   "source": []
  }
 ],
 "metadata": {
  "kernelspec": {
   "display_name": "Python 3",
   "language": "python",
   "name": "python3"
  },
  "language_info": {
   "codemirror_mode": {
    "name": "ipython",
    "version": 3
   },
   "file_extension": ".py",
   "mimetype": "text/x-python",
   "name": "python",
   "nbconvert_exporter": "python",
   "pygments_lexer": "ipython3",
   "version": "3.8.7"
  }
 },
 "nbformat": 4,
 "nbformat_minor": 5
}
